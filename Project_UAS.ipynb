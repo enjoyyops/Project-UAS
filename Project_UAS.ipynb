{
 "cells": [
  {
   "cell_type": "code",
   "execution_count": 1,
   "id": "46e4ee4f-e008-41ad-a4ce-b7a4e3d7c058",
   "metadata": {},
   "outputs": [
    {
     "data": {
      "text/html": [
       "<div>\n",
       "<style scoped>\n",
       "    .dataframe tbody tr th:only-of-type {\n",
       "        vertical-align: middle;\n",
       "    }\n",
       "\n",
       "    .dataframe tbody tr th {\n",
       "        vertical-align: top;\n",
       "    }\n",
       "\n",
       "    .dataframe thead th {\n",
       "        text-align: right;\n",
       "    }\n",
       "</style>\n",
       "<table border=\"1\" class=\"dataframe\">\n",
       "  <thead>\n",
       "    <tr style=\"text-align: right;\">\n",
       "      <th></th>\n",
       "      <th>Hours</th>\n",
       "      <th>Scores</th>\n",
       "    </tr>\n",
       "  </thead>\n",
       "  <tbody>\n",
       "    <tr>\n",
       "      <th>0</th>\n",
       "      <td>8.87</td>\n",
       "      <td>36.80</td>\n",
       "    </tr>\n",
       "    <tr>\n",
       "      <th>1</th>\n",
       "      <td>4.45</td>\n",
       "      <td>51.88</td>\n",
       "    </tr>\n",
       "    <tr>\n",
       "      <th>2</th>\n",
       "      <td>7.08</td>\n",
       "      <td>85.64</td>\n",
       "    </tr>\n",
       "    <tr>\n",
       "      <th>3</th>\n",
       "      <td>2.17</td>\n",
       "      <td>51.23</td>\n",
       "    </tr>\n",
       "    <tr>\n",
       "      <th>4</th>\n",
       "      <td>5.23</td>\n",
       "      <td>96.27</td>\n",
       "    </tr>\n",
       "    <tr>\n",
       "      <th>...</th>\n",
       "      <td>...</td>\n",
       "      <td>...</td>\n",
       "    </tr>\n",
       "    <tr>\n",
       "      <th>95</th>\n",
       "      <td>3.39</td>\n",
       "      <td>0.46</td>\n",
       "    </tr>\n",
       "    <tr>\n",
       "      <th>96</th>\n",
       "      <td>4.62</td>\n",
       "      <td>99.42</td>\n",
       "    </tr>\n",
       "    <tr>\n",
       "      <th>97</th>\n",
       "      <td>2.12</td>\n",
       "      <td>42.63</td>\n",
       "    </tr>\n",
       "    <tr>\n",
       "      <th>98</th>\n",
       "      <td>0.33</td>\n",
       "      <td>30.99</td>\n",
       "    </tr>\n",
       "    <tr>\n",
       "      <th>99</th>\n",
       "      <td>5.89</td>\n",
       "      <td>65.19</td>\n",
       "    </tr>\n",
       "  </tbody>\n",
       "</table>\n",
       "<p>100 rows × 2 columns</p>\n",
       "</div>"
      ],
      "text/plain": [
       "    Hours  Scores\n",
       "0    8.87   36.80\n",
       "1    4.45   51.88\n",
       "2    7.08   85.64\n",
       "3    2.17   51.23\n",
       "4    5.23   96.27\n",
       "..    ...     ...\n",
       "95   3.39    0.46\n",
       "96   4.62   99.42\n",
       "97   2.12   42.63\n",
       "98   0.33   30.99\n",
       "99   5.89   65.19\n",
       "\n",
       "[100 rows x 2 columns]"
      ]
     },
     "execution_count": 1,
     "metadata": {},
     "output_type": "execute_result"
    }
   ],
   "source": [
    "import numpy as np\n",
    "import pandas as pd\n",
    "import matplotlib.pyplot as plt\n",
    "\n",
    "df = pd.read_csv('Study Hours and Scores Regression.csv')\n",
    "df"
   ]
  },
  {
   "cell_type": "code",
   "execution_count": 10,
   "id": "aa054dd8-8e1c-415c-a9c1-9f776948bb68",
   "metadata": {},
   "outputs": [
    {
     "name": "stdout",
     "output_type": "stream",
     "text": [
      "   Hours  Scores\n",
      "0   8.87   36.80\n",
      "1   4.45   51.88\n",
      "2   7.08   85.64\n",
      "3   2.17   51.23\n",
      "4   5.23   96.27\n",
      "Rata Rata: 50.7827\n",
      "Median: 54.88\n",
      "Standar Deviasi: 28.980262626989646\n",
      "Nilai Minimum: 0.46\n",
      "Nilai Maximum: 99.42\n",
      "Jumlah Data Keseluruhan: 100\n"
     ]
    }
   ],
   "source": [
    "df = pd.read_csv('Study Hours and Scores Regression.csv')\n",
    "print(df.head())\n",
    "print(\"Rata Rata:\", df['Scores'].mean())\n",
    "print(\"Median:\", df['Scores'].median())\n",
    "print(\"Standar Deviasi:\", df['Scores'].std())\n",
    "print(\"Nilai Minimum:\", df['Scores'].min())\n",
    "print(\"Nilai Maximum:\", df['Scores'].max())\n",
    "print(\"Jumlah Data Keseluruhan:\", df['Scores'].count())"
   ]
  },
  {
   "cell_type": "code",
   "execution_count": 14,
   "id": "f245bc85-d448-4480-aa92-e6718f3c4fb1",
   "metadata": {},
   "outputs": [
    {
     "data": {
      "image/png": "[encoded data removed]",
      "text/plain": [
       "<Figure size 640x480 with 1 Axes>"
      ]
     },
     "metadata": {},
     "output_type": "display_data"
    },
    {
     "name": "stdout",
     "output_type": "stream",
     "text": [
      "Prediksi nilai ujian jika belajar 7 jam: 49.74\n",
      "Koefisien setiap satu jam belajar: -0.44\n"
     ]
    },
    {
     "name": "stderr",
     "output_type": "stream",
     "text": [
      "D:\\ANACONDA\\Lib\\site-packages\\sklearn\\utils\\validation.py:2739: UserWarning: X does not have valid feature names, but LinearRegression was fitted with feature names\n",
      "  warnings.warn(\n"
     ]
    }
   ],
   "source": [
    "from sklearn.linear_model import LinearRegression\n",
    "df = pd.read_csv('Study Hours and Scores Regression.csv')\n",
    "\n",
    "X = df[['Hours']]\n",
    "y = df['Scores']\n",
    "\n",
    "model = LinearRegression()\n",
    "model.fit(X,y)\n",
    "\n",
    "plt.scatter(X, y, color='yellow', marker='o', label='Data Asli')\n",
    "plt.plot(X, model.predict(X), color='blue', label='Garis Regresi')\n",
    "plt.xlabel('Hours')\n",
    "plt.ylabel('Scores')\n",
    "plt.title('Regresi linier: jam belajar vs nilai')\n",
    "plt.legend()\n",
    "plt.grid(True)\n",
    "plt.show()\n",
    "\n",
    "nilai_prediksi = model.predict([[7]])\n",
    "print(f\"Prediksi nilai ujian jika belajar 7 jam: {nilai_prediksi[0]:,.2f}\")\n",
    "print(f\"Koefisien setiap satu jam belajar: {model.coef_[0]:,.2f}\")"
   ]
  }
 ],
 "metadata": {
  "kernelspec": {
   "display_name": "Python [conda env:base] *",
   "language": "python",
   "name": "conda-base-py"
  },
  "language_info": {
   "codemirror_mode": {
    "name": "ipython",
    "version": 3
   },
   "file_extension": ".py",
   "mimetype": "text/x-python",
   "name": "python",
   "nbconvert_exporter": "python",
   "pygments_lexer": "ipython3",
   "version": "3.13.5"
  }
 },
 "nbformat": 4,
 "nbformat_minor": 5
}
